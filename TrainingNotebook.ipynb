{
 "cells": [
  {
   "cell_type": "code",
   "execution_count": 11,
   "id": "0444addc-89a4-4ae8-8ab6-ce7da4b0973c",
   "metadata": {},
   "outputs": [],
   "source": [
    "import torch\n",
    "import transformers\n",
    "import sagemaker\n",
    "from sagemaker.huggingface import HuggingFace\n",
    "from sagemaker import get_execution_role\n",
    "\n",
    "\n",
    "role = get_execution_role()"
   ]
  },
  {
   "cell_type": "code",
   "execution_count": 12,
   "id": "9044539a-bac7-4eab-a545-9317ef50cdd8",
   "metadata": {},
   "outputs": [
    {
     "data": {
      "text/plain": [
       "'arn:aws:iam::091895940234:role/service-role/AmazonSageMaker-ExecutionRole-20250508T202855'"
      ]
     },
     "execution_count": 12,
     "metadata": {},
     "output_type": "execute_result"
    }
   ],
   "source": [
    "role"
   ]
  },
  {
   "cell_type": "code",
   "execution_count": 13,
   "id": "9ad92585-efb3-4180-977f-c63dc99d30af",
   "metadata": {},
   "outputs": [],
   "source": [
    "sagemaker_session = sagemaker.Session()"
   ]
  },
  {
   "cell_type": "code",
   "execution_count": 14,
   "id": "5ca3e1c2-38bb-46c5-b6b6-2d55103c9039",
   "metadata": {},
   "outputs": [],
   "source": [
    "from sagemaker.huggingface import HuggingFace\n",
    "\n",
    "huggingface_estimator = HuggingFace(\n",
    "    entry_point='script.py',   # this will have the information about the model architecture, training data, loss function etc\n",
    "    source_dir='./',\n",
    "    role=role,\n",
    "    intance_count=1,\n",
    "    instance_type='ml.p2.xlarge',  # GPU instance\n",
    "    transformers_version='4.51.3',\n",
    "    pytorch_version='2.5.1',\n",
    "    output_path='s3://hugging-face-multiclasstextclassification1/output/',\n",
    "    py_version='py312',\n",
    "    hyperparameters={'epochs': 2,\n",
    "                     'train_batch_size': 4,\n",
    "                     'valid_batch_size': 2,\n",
    "                     'learning_rate': 1e-05},\n",
    "    enable_sagemaker_metrics=True\n",
    ")"
   ]
  },
  {
   "cell_type": "code",
   "execution_count": null,
   "id": "f1c590bb-c6f6-4cd1-9ab2-55575d037758",
   "metadata": {},
   "outputs": [],
   "source": [
    "huggingface_estimator.fit()"
   ]
  }
 ],
 "metadata": {
  "kernelspec": {
   "display_name": "Python 3 (ipykernel)",
   "language": "python",
   "name": "python3"
  },
  "language_info": {
   "codemirror_mode": {
    "name": "ipython",
    "version": 3
   },
   "file_extension": ".py",
   "mimetype": "text/x-python",
   "name": "python",
   "nbconvert_exporter": "python",
   "pygments_lexer": "ipython3",
   "version": "3.12.9"
  }
 },
 "nbformat": 4,
 "nbformat_minor": 5
}
